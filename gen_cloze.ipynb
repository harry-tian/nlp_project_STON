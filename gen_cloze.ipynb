{
 "cells": [
  {
   "cell_type": "code",
   "execution_count": 1,
   "id": "ac05eeae",
   "metadata": {},
   "outputs": [],
   "source": [
    "# import torch\n",
    "\n",
    "import sys\n",
    "import time\n",
    "import os\n",
    "from collections import Counter\n",
    "from tqdm import tqdm\n",
    "import pandas as pd\n",
    "\n",
    "from transformers import BertTokenizer, BertModel, BertForMaskedLM\n",
    "# import torch.nn.functional as F"
   ]
  },
  {
   "cell_type": "markdown",
   "id": "f284704c",
   "metadata": {},
   "source": [
    "## simple 3-word SVO(adj) with verb fixed"
   ]
  },
  {
   "cell_type": "code",
   "execution_count": 6,
   "id": "0c103f88",
   "metadata": {},
   "outputs": [],
   "source": [
    "import numpy as np\n",
    "import itertools\n",
    "import utils\n",
    "import csv\n",
    "from collections import Counter\n",
    "choice = np.random.choice\n",
    "import matplotlib.pyplot as plt"
   ]
  },
  {
   "cell_type": "code",
   "execution_count": 8,
   "id": "a722210b",
   "metadata": {},
   "outputs": [],
   "source": [
    "\n",
    "male_names = []\n",
    "female_names = []\n",
    "for row in csv.DictReader(open(\"raw_data/most_common_female_names.csv\")):\n",
    "    female_names.append(row['name'])\n",
    "for row in csv.DictReader(open(\"raw_data/most_common_male_names.csv\")):\n",
    "    male_names.append(row['name'])\n",
    "subject_pool = [\"his name is\",\"her name is\", \"my name is\", \"your name is\"]\n",
    "his_name, her_name, my_name, your_name = subject_pool[0],subject_pool[1],subject_pool[2],subject_pool[3]\n",
    "exclude = ['Ewan', 'Alastair', 'Euan', 'Calum', 'Alasdair', 'Greig', 'Martyn', 'Kieran', 'Kristopher', 'Keiran', 'Ciaran', 'Finlay', 'Arran', 'Keir', 'Kian', 'Lennon', 'Kenzie', 'Alfie', 'Jayden', 'Zak', 'Kayden', 'Kaiden', 'Ruaridh', 'Olly', 'Callan', 'Jaxon', 'Lachlan', 'Arlo', 'Innes', 'Ruairidh', 'Struan', 'Lorna', 'Kirsty', 'Shona', 'Catriona', 'Morag', 'Kirsten', 'Kirsteen', 'Lynsey', 'Aileen', 'Arlene', 'Mhairi', 'Gayle', 'Leanne', 'Lyndsey', 'Lyndsay', 'Charlene', 'Linsey', 'Eilidh', 'Hayley', 'Alana', 'Siobhan', 'Rachael', 'Ashleigh', 'Kayleigh', 'Jemma', 'Linzi', 'Jodie', 'Michaela', 'Sinead', 'Kerri', 'Kirstie', 'Nicolle', 'Rebekah', 'Hollie', 'Chantelle', 'Abbie', 'Niamh', 'Rhiannon', 'Caitlyn', 'Kaitlin', 'Ciara', 'Meghan', 'Lauryn', 'Ailsa', 'Morven', 'Cerys', 'Kiera', 'Freya', 'Zara', 'Orla', 'Keira', 'Neve', 'Abi', 'Abbi', 'Alisha', 'Mya', 'Maisie', 'Imogen', 'Nieve', 'Miley', 'Mollie', 'Laila', 'Mirren', 'Ayla', 'Mila', 'Esme', 'Arianna', 'Thea', 'Ariana', 'Lillie', 'Hallie', 'Aila', 'Myla', 'Aoife', 'Lottie', 'Lyla', 'Remi', 'Maeve', 'Ayda', 'Arabella']\n",
    "exclude.extend(['Iain', 'Graeme', 'Alistair', 'Roderick', 'Gregor', 'Callum', 'Niall', 'Barrie', 'Antony', 'Declan', 'Aidan', 'Rhys', 'Reece', 'Hamish', 'Conner', 'Ronan', 'Aiden', 'Mackenzie', 'Brodie', 'Luca', 'Ollie', 'Reuben', 'Brody', 'Zachary', 'Jax', 'Lyle', 'Finley', 'Myles', 'Gillian', 'Jacqueline', 'Lesley', 'Pauline', 'Lorraine', 'Tracey', 'Lynne', 'Yvonne', 'Joanne', 'Gail', 'Joanna', 'Maureen', 'Mandy', 'Jillian', 'Vicky', 'Stacey', 'Gemma', 'Kimberley', 'Adele', 'Kylie', 'Robyn', 'Caitlin', 'Aimee', 'Cara', 'Demi', 'Bethany', 'Toni', 'Abigail', 'Iona', 'Isla', 'Kelsey', 'Carla', 'Kaitlyn', 'Jasmine', 'Skye', 'Rosie', 'Kayla', 'Elle', 'Ella', 'Millie', 'Ava', 'Evie', 'Alyssa', 'Poppy', 'Isabella', 'Charley', 'Layla', 'Libby', 'Lexi', 'Amelie', 'Phoebe', 'Lexie', 'Lucie', 'Sienna', 'Gracie', 'Rowan', 'Sofia', 'Lacey', 'Emilia', 'Lola', 'Darcy', 'Aria', 'Matilda', 'Elsie', 'Georgie', 'Sadie', 'Arya', 'Callie', 'Penelope', 'Cora', 'Evelyn', 'Alba'])\n",
    "for word in exclude:\n",
    "    try:  male_names.remove(word)\n",
    "    except ValueError as e: pass\n",
    "    try:  female_names.remove(word)\n",
    "    except ValueError as e: pass\n",
    "\n",
    "all_names = male_names + female_names\n",
    "n = len(male_names)"
   ]
  },
  {
   "cell_type": "code",
   "execution_count": 14,
   "id": "59428f7a",
   "metadata": {},
   "outputs": [],
   "source": [
    "\n",
    "sentences = []\n",
    "answers = []\n",
    "\n",
    "for n1, n2 in zip(all_names, np.array(all_names)[choice(np.arange(len(all_names)), len(all_names))]):\n",
    "    sentence = []\n",
    "    context = [my_name, n1]\n",
    "    sentence.extend(context)\n",
    "\n",
    "    sent = [\"and\", your_name, n2, \".\"]\n",
    "    sentence.extend(sent)\n",
    "    \n",
    "    question = [\"So\", my_name, \"[MASK]\", \".\"]\n",
    "    sentence.extend(question)\n",
    "\n",
    "    sentence = \" \".join(sentence)\n",
    "    sentences.append(sentence)\n",
    "    answers.append(n1)\n"
   ]
  },
  {
   "cell_type": "code",
   "execution_count": 15,
   "id": "20f71f86",
   "metadata": {},
   "outputs": [],
   "source": [
    "\n",
    "utils.to_csv(sentences, answers,\"cloze/simple_SVO/names/my_name/num_attractors=1.csv\")"
   ]
  },
  {
   "cell_type": "code",
   "execution_count": 4,
   "id": "dbc57141",
   "metadata": {},
   "outputs": [],
   "source": [
    "f = open(\"baby-names.csv\")\n",
    "reader = csv.DictReader(f)\n",
    "male_names = []\n",
    "female_names = []\n",
    "for row in reader:\n",
    "    if row['sex'] == \"B\": male_names.append(row['name'])\n",
    "    else: female_names.append(row['name'])"
   ]
  },
  {
   "cell_type": "code",
   "execution_count": 21,
   "id": "87b50895",
   "metadata": {},
   "outputs": [],
   "source": [
    "f = open(\"babies-first-names-top-100-girls.csv\")\n",
    "reader = csv.DictReader(f)\n",
    "female_names = Counter()\n",
    "for row in reader:\n",
    "    c = {row['FirstForename']:int(row['number'])}\n",
    "    female_names.update(c)"
   ]
  },
  {
   "cell_type": "code",
   "execution_count": 22,
   "id": "45817a2a",
   "metadata": {},
   "outputs": [],
   "source": [
    "with open(\"most_common_female_names.csv\", 'w', encoding='UTF8', newline='') as f:\n",
    "    writer = csv.writer(f)\n",
    "    writer.writerow([\"name\",\"rank\"])\n",
    "    for i, name in enumerate(female_names.keys()):\n",
    "        writer.writerow([name, i])"
   ]
  },
  {
   "cell_type": "code",
   "execution_count": 2,
   "id": "38a046d1",
   "metadata": {},
   "outputs": [],
   "source": [
    "f = open(\"raw_data/simple_SVO/names/results.csv\")\n",
    "reader = csv.DictReader(f)\n",
    "results = {}\n",
    "for row in reader:\n",
    "    model = row['model']\n",
    "    results[model] = [float(row['0'].strip()), float(row['1'].strip()),float(row['2'].strip()),float(row['3'].strip())]"
   ]
  },
  {
   "cell_type": "code",
   "execution_count": 1,
   "id": "01ced6ac",
   "metadata": {},
   "outputs": [],
   "source": [
    "legend = [\"BertBase\", \"BertLarge\", \"RobertaBase\",\"RobertaLarge\",\"GPT2Small\",\"GPT2Medium\"]\n",
    "color_list = ['k','y','m','g','c','r','b','lime']\n",
    "marker_list = ['o','s','^','x','d','p','*','8']\n",
    "linestyle_list = ['solid','dashed','dashdot','dotted','solid','dashed','dashdot','dotted']"
   ]
  },
  {
   "cell_type": "code",
   "execution_count": 5,
   "id": "44c01bd8",
   "metadata": {},
   "outputs": [
    {
     "ename": "SyntaxError",
     "evalue": "unexpected EOF while parsing (936239656.py, line 2)",
     "output_type": "error",
     "traceback": [
      "\u001b[0;36m  File \u001b[0;32m\"/tmp/ipykernel_343/936239656.py\"\u001b[0;36m, line \u001b[0;32m2\u001b[0m\n\u001b[0;31m    legend.remove(\"1\")\u001b[0m\n\u001b[0m                      ^\u001b[0m\n\u001b[0;31mSyntaxError\u001b[0m\u001b[0;31m:\u001b[0m unexpected EOF while parsing\n"
     ]
    }
   ],
   "source": [
    "try:\n",
    "    legend.remove(\"1\")\n",
    "except ValueError as e:\n",
    "    print(1) "
   ]
  },
  {
   "cell_type": "code",
   "execution_count": 16,
   "id": "d2c7a329",
   "metadata": {},
   "outputs": [],
   "source": [
    "\n",
    "SMALL_SIZE = 10\n",
    "MEDIUM_SIZE = 15\n",
    "BIGGER_SIZE = 20\n",
    "plt.rc('font', size=SMALL_SIZE)          # controls default text sizes\n",
    "plt.rc('axes', titlesize=BIGGER_SIZE)     # fontsize of the axes title\n",
    "plt.rc('axes', labelsize=MEDIUM_SIZE)    # fontsize of the x and y labels\n",
    "plt.rc('xtick', labelsize=SMALL_SIZE)    # fontsize of the tick labels\n",
    "plt.rc('ytick', labelsize=SMALL_SIZE)    # fontsize of the tick labels\n",
    "plt.rc('legend', fontsize=MEDIUM_SIZE)    # legend fontsize\n",
    "plt.rc('figure', titlesize=BIGGER_SIZE)  # fontsize of the figure title"
   ]
  },
  {
   "cell_type": "code",
   "execution_count": 18,
   "id": "2ccea016",
   "metadata": {},
   "outputs": [
    {
     "data": {
      "text/plain": [
       "Text(0.5, 1.0, 'cloze task: names')"
      ]
     },
     "execution_count": 18,
     "metadata": {},
     "output_type": "execute_result"
    },
    {
     "data": {
      "image/png": "[encoded data removed]",
      "text/plain": [
       "<Figure size 720x432 with 1 Axes>"
      ]
     },
     "metadata": {
      "needs_background": "light"
     },
     "output_type": "display_data"
    }
   ],
   "source": [
    "plt.figure(figsize=(10,6))\n",
    "for i, val in enumerate(results.values()):\n",
    "    plt.plot(val,linewidth=2.0, color=color_list[i],\n",
    "\t\tmarkersize=7,linestyle=linestyle_list[i],label=model,marker=marker_list[i])\n",
    "plt.xticks([0,1,2,3])\n",
    "plt.yticks(np.arange(0,1.1,0.1))\n",
    "plt.legend(legend)\n",
    "plt.xlabel('number of attractors', labelpad=1)\n",
    "plt.ylabel('accuracy')\n",
    "plt.title(\"cloze task: names\")"
   ]
  },
  {
   "cell_type": "code",
   "execution_count": 107,
   "id": "7cd47e2d",
   "metadata": {},
   "outputs": [],
   "source": [
    "def name_1(male_names, female_names, subject_pool):\n",
    "    sentences = []\n",
    "    answers = []\n",
    "\n",
    "    for n1, n2 in zip(male_names, female_names):\n",
    "        sentence = []\n",
    "        context = [subject_pool[0], n1]\n",
    "        sentence.extend(context)\n",
    "\n",
    "        sent = [\"and\", subject_pool[1], n2, \".\"]\n",
    "        sentence.extend(sent)\n",
    "        \n",
    "        question = [\"So\", subject_pool[0], \"[MASK]\", \".\"]\n",
    "        sentence.extend(question)\n",
    "\n",
    "        sentence = \" \".join(sentence)\n",
    "        sentences.append(sentence)\n",
    "        answers.append(n1)\n",
    "    return sentences, answers"
   ]
  },
  {
   "cell_type": "code",
   "execution_count": 108,
   "id": "4c4eeefc",
   "metadata": {},
   "outputs": [],
   "source": [
    "def name_2(male_names, female_names, subject_pool):\n",
    "    verb = \"is\"\n",
    "    all_names = male_names + female_names\n",
    "    my_names = choice(all_names, len(male_names))\n",
    "    your_names = choice(all_names, len(male_names))\n",
    "    sentences = []\n",
    "    answers = []\n",
    "\n",
    "    for n1, n2, n3 in zip(male_names, female_names, my_names):\n",
    "        sentence = []\n",
    "        context = [subject_pool[0], n1]\n",
    "        sentence.extend(context)\n",
    "\n",
    "        sent = [\",\", subject_pool[1], n2]\n",
    "        sentence.extend(sent)\n",
    "\n",
    "        sent = [\"and\", subject_pool[2], n3, \".\"]\n",
    "        sentence.extend(sent)\n",
    "\n",
    "        question = [\"So\", subject_pool[0], \"[MASK]\", \".\"]\n",
    "        sentence.extend(question)\n",
    "\n",
    "        sentences.append(\" \".join(sentence))\n",
    "        answers.append(n1)\n",
    "    return sentences, answers"
   ]
  },
  {
   "cell_type": "code",
   "execution_count": 109,
   "id": "6c528f9d",
   "metadata": {},
   "outputs": [],
   "source": [
    "def name_3(male_names, female_names, subject_pool):\n",
    "    verb = \"is\"\n",
    "    all_names = male_names + female_names\n",
    "    my_names = choice(all_names, len(male_names))\n",
    "    your_names = choice(all_names, len(male_names))\n",
    "    sentences = []\n",
    "    answers = []\n",
    "\n",
    "    for n1, n2, n3, n4 in zip(male_names, female_names, my_names, your_names):\n",
    "        sentence = []\n",
    "        context = [subject_pool[0], n1]\n",
    "        sentence.extend(context)\n",
    "\n",
    "        sent = [\",\", subject_pool[1], n2]\n",
    "        sentence.extend(sent)\n",
    "\n",
    "        sent = [\",\", subject_pool[2], n3]\n",
    "        sentence.extend(sent)\n",
    "\n",
    "        sent = [\"and\", subject_pool[3], n4, \".\"]\n",
    "        sentence.extend(sent)\n",
    "\n",
    "        question = [\"So\", subject_pool[0], \"[MASK]\", \".\"]\n",
    "        sentence.extend(question)\n",
    "        \n",
    "        sentences.append(\" \".join(sentence))\n",
    "        answers.append(n1)\n",
    "    return sentences, answers"
   ]
  },
  {
   "cell_type": "code",
   "execution_count": 119,
   "id": "110c7c19",
   "metadata": {},
   "outputs": [],
   "source": [
    "s,a = name_0(male_names, female_names, [\"his name is\",\"her name is\"])\n",
    "idx = choice(np.arange(len(s)),10000)\n",
    "s = np.array(s)[idx]\n",
    "a = np.array(a)[idx]\n",
    "utils.to_csv(s,a,\"raw_data/simple_SVO/names/num_attractors=0.csv\")"
   ]
  },
  {
   "cell_type": "code",
   "execution_count": 120,
   "id": "b869dd50",
   "metadata": {},
   "outputs": [],
   "source": [
    "s,a = name_1(male_names, female_names, [\"his name is\",\"her name is\"])\n",
    "idx = choice(np.arange(len(s)),10000)\n",
    "s = np.array(s)[idx]\n",
    "a = np.array(a)[idx]\n",
    "utils.to_csv(s,a,\"raw_data/simple_SVO/names/num_attractors=1.csv\")"
   ]
  },
  {
   "cell_type": "code",
   "execution_count": 121,
   "id": "4394c473",
   "metadata": {},
   "outputs": [],
   "source": [
    "s,a = name_2(male_names, female_names, [\"his name is\",\"her name is\", \"my name is\", \"your name is\"])\n",
    "idx = choice(np.arange(len(s)),10000)\n",
    "s = np.array(s)[idx]\n",
    "a = np.array(a)[idx]\n",
    "utils.to_csv(s,a,\"raw_data/simple_SVO/names/num_attractors=2.csv\")"
   ]
  },
  {
   "cell_type": "code",
   "execution_count": 122,
   "id": "22ae31f0",
   "metadata": {},
   "outputs": [],
   "source": [
    "s,a = name_3(male_names, female_names, [\"his name is\",\"her name is\", \"my name is\", \"your name is\"])\n",
    "idx = choice(np.arange(len(s)),10000)\n",
    "s = np.array(s)[idx]\n",
    "a = np.array(a)[idx]\n",
    "utils.to_csv(s,a,\"raw_data/simple_SVO/names/num_attractors=3.csv\")"
   ]
  },
  {
   "cell_type": "code",
   "execution_count": 17,
   "id": "8b3ff7b9",
   "metadata": {},
   "outputs": [],
   "source": [
    "from transformers import GPT2LMHeadModel, GPT2Tokenizer\n",
    "\n",
    "\n",
    "tokenizer = GPT2Tokenizer.from_pretrained(\"gpt2\")\n",
    "\n",
    "# add the EOS token as PAD token to avoid warnings\n",
    "model = GPT2LMHeadModel.from_pretrained(\"gpt2\", pad_token_id=tokenizer.eos_token_id)"
   ]
  },
  {
   "cell_type": "code",
   "execution_count": 55,
   "id": "f29e2d58",
   "metadata": {},
   "outputs": [],
   "source": [
    "a = tokenizer.decode(output[:,-1], skip_special_tokens=True)"
   ]
  },
  {
   "cell_type": "code",
   "execution_count": 57,
   "id": "a29ca48d",
   "metadata": {},
   "outputs": [
    {
     "data": {
      "text/plain": [
       "' james st a the t william george william paul james'"
      ]
     },
     "execution_count": 57,
     "metadata": {},
     "output_type": "execute_result"
    }
   ],
   "source": [
    "a.lower()"
   ]
  },
  {
   "cell_type": "code",
   "execution_count": 105,
   "id": "18a92612",
   "metadata": {},
   "outputs": [
    {
     "name": "stdout",
     "output_type": "stream",
     "text": [
      "Output:\n",
      "----------------------------------------------------------------------------------------------------\n",
      "his name is John and her name is Mary. So his name is John\n",
      "his name is John and her name is Mary. So his name is John\n",
      "his name is John and her name is Mary. So his name is Mary\n",
      "his name is John and her name is Mary. So his name is \"\n",
      "his name is John and her name is Mary. So his name is Jesus\n"
     ]
    }
   ],
   "source": [
    "# encode context the generation is conditioned on\n",
    "input_ids = torch.tensor([tokenizer.encode('his name is John and her name is Mary . So his name is')])\n",
    "# generate text until the output length (which includes the context length) reaches 50\n",
    "# greedy_output = model.generate(torch.tensor([input_ids]), max_length=len(input_ids)+1)\n",
    "output = model.generate(\n",
    "    input_ids,\n",
    "    do_sample=True, \n",
    "    max_length=len(input_ids[0])+1, \n",
    "    top_k=50, \n",
    "    top_p=0.95, \n",
    "    num_return_sequences=5\n",
    ")\n",
    "print(\"Output:\\n\" + 100 * '-')\n",
    "for o in output:\n",
    "    print(tokenizer.decode(o, skip_special_tokens=True))"
   ]
  },
  {
   "cell_type": "code",
   "execution_count": 114,
   "id": "350f70a4",
   "metadata": {},
   "outputs": [],
   "source": [
    "import pandas as pd"
   ]
  },
  {
   "cell_type": "code",
   "execution_count": 115,
   "id": "9b823960",
   "metadata": {},
   "outputs": [],
   "source": [
    "a = dict.fromkeys([1,2])"
   ]
  },
  {
   "cell_type": "code",
   "execution_count": 116,
   "id": "8feb02ff",
   "metadata": {},
   "outputs": [
    {
     "data": {
      "text/plain": [
       "{1: None, 2: None}"
      ]
     },
     "execution_count": 116,
     "metadata": {},
     "output_type": "execute_result"
    }
   ],
   "source": [
    "a"
   ]
  }
 ],
 "metadata": {
  "interpreter": {
   "hash": "3124f245792525ca1f5e55d7f1d563a433de003870612011de0d183d4fe8740d"
  },
  "kernelspec": {
   "display_name": "cs351",
   "language": "python",
   "name": "python3"
  },
  "language_info": {
   "codemirror_mode": {
    "name": "ipython",
    "version": 3
   },
   "file_extension": ".py",
   "mimetype": "text/x-python",
   "name": "python",
   "nbconvert_exporter": "python",
   "pygments_lexer": "ipython3",
   "version": "3.7.11"
  }
 },
 "nbformat": 4,
 "nbformat_minor": 5
}
